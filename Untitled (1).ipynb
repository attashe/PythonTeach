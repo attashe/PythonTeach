{
 "cells": [
  {
   "cell_type": "code",
   "execution_count": 36,
   "metadata": {
    "collapsed": false
   },
   "outputs": [
    {
     "name": "stdout",
     "output_type": "stream",
     "text": [
      "6\n"
     ]
    }
   ],
   "source": [
    "def g(n):\n",
    "    m = 1\n",
    "    for i in range(n):\n",
    "        if i != 0 and n % i == 0:\n",
    "            m = i\n",
    "    return m\n",
    "print (g(12))"
   ]
  },
  {
   "cell_type": "code",
   "execution_count": 37,
   "metadata": {
    "collapsed": false
   },
   "outputs": [
    {
     "name": "stdout",
     "output_type": "stream",
     "text": [
      "[2, 4, 6, 8]\n",
      "[2, 5, 8]\n",
      "[2, 3, 4, 5, 6, 7, 8, 9]\n"
     ]
    }
   ],
   "source": [
    "def my_range(a, b, d):\n",
    "    i = a\n",
    "    xs = []\n",
    "    while i < b:\n",
    "        xs.append(i)\n",
    "        i += d\n",
    "    return xs\n",
    "print my_range (2, 10, 2)\n",
    "print my_range(2, 10, 3)\n",
    "print my_range (2, 10, 1)\n",
    "        "
   ]
  },
  {
   "cell_type": "code",
   "execution_count": 38,
   "metadata": {
    "collapsed": false
   },
   "outputs": [
    {
     "name": "stdout",
     "output_type": "stream",
     "text": [
      "True\n"
     ]
    }
   ],
   "source": [
    "def str_eq(word1, word2):\n",
    "    if len(word1) != len(word2):\n",
    "        return False\n",
    "    for i in range(len(word1)):\n",
    "        if not(ord(word1[i]) == ord(word2[i]) or (ord(word1[i])-32) == ord(word2[i]) or (ord(word1[i]) + 32) == ord(word2[i])):\n",
    "            return False\n",
    "    return True\n",
    "\n",
    "print str_eq('abf', 'ABf')"
   ]
  },
  {
   "cell_type": "code",
   "execution_count": 39,
   "metadata": {
    "collapsed": false
   },
   "outputs": [
    {
     "name": "stdout",
     "output_type": "stream",
     "text": [
      "[['A', 1], ['P', 2], ['L', 1], ['E', 1]]\n"
     ]
    }
   ],
   "source": [
    "def count_letters(word):\n",
    "    xs = []\n",
    "    word = word.upper()\n",
    "    for i in word:\n",
    "        flag = False #для отслеживания повторов букв\n",
    "        for j in xs:\n",
    "            if ord(j[0]) == ord(i):\n",
    "                j[1] += 1\n",
    "                flag = True\n",
    "                break\n",
    "        if flag == False: #если повтора не было, добавляем элемент в список\n",
    "            xs = xs + [[i, 1]]\n",
    "    return xs\n",
    "print count_letters('APple')"
   ]
  },
  {
   "cell_type": "code",
   "execution_count": 1,
   "metadata": {
    "collapsed": true
   },
   "outputs": [],
   "source": [
    "def frame(string):\n",
    "    print '*' * (len(string) + 4)\n",
    "    print '* ' + string + ' *'\n",
    "    print '*' * (len(string) + 4)"
   ]
  },
  {
   "cell_type": "code",
   "execution_count": 2,
   "metadata": {
    "collapsed": false
   },
   "outputs": [
    {
     "name": "stdout",
     "output_type": "stream",
     "text": [
      "*********\n",
      "* Title *\n",
      "*********\n"
     ]
    }
   ],
   "source": [
    "frame ('Title')"
   ]
  },
  {
   "cell_type": "code",
   "execution_count": null,
   "metadata": {
    "collapsed": true
   },
   "outputs": [],
   "source": []
  }
 ],
 "metadata": {
  "kernelspec": {
   "display_name": "Python 2",
   "language": "python",
   "name": "python2"
  },
  "language_info": {
   "codemirror_mode": {
    "name": "ipython",
    "version": 2
   },
   "file_extension": ".py",
   "mimetype": "text/x-python",
   "name": "python",
   "nbconvert_exporter": "python",
   "pygments_lexer": "ipython2",
   "version": "2.7.10"
  }
 },
 "nbformat": 4,
 "nbformat_minor": 0
}
